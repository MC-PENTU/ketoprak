{
 "cells": [
  {
   "cell_type": "code",
   "execution_count": 1,
   "metadata": {},
   "outputs": [],
   "source": [
    "from langchain_core.pydantic_v1 import BaseModel, Field\n",
    "from langchain_openai import ChatOpenAI\n",
    "import os\n",
    "import dotenv\n",
    "from articles_parser import parse_news\n",
    "from typing import List\n",
    "from langchain_core.prompts import PromptTemplate\n",
    "from langchain.output_parsers import PydanticOutputParser"
   ]
  },
  {
   "cell_type": "code",
   "execution_count": 2,
   "metadata": {},
   "outputs": [],
   "source": [
    "# parameters and constants\n",
    "dotenv.load_dotenv()\n",
    "OPENAI_API_KEY = os.getenv('OPENAI_API_KEY')\n",
    "OPENAI_MODEL = \"gpt-3.5-turbo-0125\"\n",
    "TEMPERATURE = 0"
   ]
  },
  {
   "cell_type": "code",
   "execution_count": 3,
   "metadata": {},
   "outputs": [],
   "source": [
    "class ArticleSummary(BaseModel):\n",
    "    relations: List[str] =  Field(..., description=\"Relations extracted from the article, must contain exactly 2 entities and a type of relation between theme, each relation must be in the form of '<entity1> <relation> <entity2>'\")\n",
    "    properties: List[str] = Field(..., description=\"Properties of entity extracted from the article, must contain exactly 1 entity and one or more property of that entity, each property must be in the form of '<entity> <property>'\")\n",
    "\n",
    "class ArticleLLM():\n",
    "    def __init__(self, model, api_key, temperature):\n",
    "        self.parser = PydanticOutputParser(pydantic_object=ArticleSummary)\n",
    "        \n",
    "        self.class_context_template =  \"\"\"\n",
    "            You are a data modeling expert. You will be given an article and you will help me structure the data based on this format.\n",
    "            \n",
    "            Don't need to put '-' between entity and relation or property. For example, if the entity is 'Apple' and the relation is 'founded', you should write 'Apple founded Steve Jobs'.\n",
    "            \n",
    "            Entities can only be one of people, locations, organizations, events, objects, incidents, and resolutions. Otherwise, don't consider it as an entity.\n",
    "            \n",
    "            Don't include any relations or properties that are not in the article.\n",
    "            \n",
    "            {format_instructions}\n",
    "            \n",
    "            Article: {article} \n",
    "        \"\"\"\n",
    "        \n",
    "        self.cypher_context_template = \"\"\"\n",
    "            You are also familiar with Cypher Query Language and Neo4j graph database.\n",
    "            \n",
    "            Based on the given relations and properties, you will help me to create a graph database query using Cypher Query Language.\n",
    "            \n",
    "            Combine everything into a single query without using any comments using the MERGE Command. \n",
    "            \n",
    "            Make sure each entity is declared before using them in the relation.\n",
    "            \n",
    "            Relations and properties extracted from the article: \n",
    "            {response}\n",
    "        \"\"\"\n",
    "        \n",
    "        self.context_prompt = PromptTemplate(\n",
    "            input_variables=[\"article\"],\n",
    "            template=self.class_context_template,\n",
    "            partial_variables={\"format_instructions\": self.parser.get_format_instructions()}\n",
    "        )\n",
    "        \n",
    "        self.cypher_prompt = PromptTemplate(\n",
    "            input_variables=[\"response\"],\n",
    "            template=self.cypher_context_template\n",
    "        )\n",
    "        \n",
    "        self.llm = ChatOpenAI(\n",
    "            model=model,\n",
    "            api_key=api_key,\n",
    "            temperature=temperature\n",
    "        )\n",
    "        \n",
    "        self.context_chain = self.context_prompt | self.llm | self.parser\n",
    "        self.cyper_chain = self.cypher_prompt | self.llm\n",
    "    \n",
    "    def __run(self, article_link):\n",
    "        article = parse_news(article_link)['text']\n",
    "        response = self.context_chain.invoke({\"article\":article})\n",
    "        return response\n",
    "    \n",
    "    def __format_output(self, response):\n",
    "        try:\n",
    "            relations = response.relations\n",
    "        except:\n",
    "            relations = []\n",
    "        \n",
    "        try:\n",
    "            properties = response.properties\n",
    "        except:\n",
    "            properties = []\n",
    "        \n",
    "        outputs = relations + properties\n",
    "        outputs = '\\n'.join(outputs)\n",
    "        \n",
    "        return outputs\n",
    "    \n",
    "    def inference(self, article_link):\n",
    "        response = self.__run(article_link)\n",
    "        response = self.__format_output(response) \n",
    "        response = self.cyper_chain.invoke({\"response\":response}).content\n",
    "        \n",
    "        return response"
   ]
  },
  {
   "cell_type": "code",
   "execution_count": 4,
   "metadata": {},
   "outputs": [],
   "source": [
    "article_link = \"https://www.bbc.com/news/world-asia-67783043\"\n",
    "model = ArticleLLM(OPENAI_MODEL, OPENAI_API_KEY, TEMPERATURE)\n",
    "response = model.inference(article_link)"
   ]
  },
  {
   "cell_type": "code",
   "execution_count": 5,
   "metadata": {},
   "outputs": [
    {
     "name": "stdout",
     "output_type": "stream",
     "text": [
      "MERGE (pm:PrimeMinister {name: \"Fumio Kishida\", approval_ratings: 17})\n",
      "MERGE (cabinetMinistersResigned:Minister {number_resigned: 4})\n",
      "MERGE (publicOutrage:PublicOutrage {description: \"Public anger and outrage has boiled over on social media\"})\n",
      "MERGE (hopeForReforms:HopeForReforms {description: \"Some hope this could be a tipping point for reforms in governance\"})\n",
      "MERGE (ldp:Party {name: \"Liberal Democratic Party\", ruling_since: 1955})\n",
      "MERGE (votersDisillusioned:VotersDisillusioned {description: \"Voters in the leading Asian democracy are feeling disillusioned and cynical\"})\n",
      "MERGE (ldpScandals:Scandals {description: \"LDP politicians accused of pocketing excess funds received at fundraisers\"})\n",
      "MERGE (prosecutorsRaided:ProsecutorsRaided {description: \"Prosecutors raided the offices of the Abe group and the Nikai faction\"})\n",
      "MERGE (underreportingInvestigation:UnderreportingInvestigation {description: \"Five of the six LDP factions are under investigation for underreporting ticket funds\"})\n",
      "MERGE (fundraisingEvents:FundraisingEvents {description: \"Politicians host ticketed events where they are set a fundraising target through ticket sales\"})\n",
      "MERGE (excessFundsAccusation:ExcessFundsAccusation {description: \"LDP MPs accused of keeping excess sales off the books\"})\n",
      "MERGE (slushFundPayments:SlushFundPayments {description: \"Slush fund money is used to make payments to maintain or increase political network\"})\n",
      "MERGE (kishidaInvestigation:KishidaInvestigation {description: \"Prosecutors are investigating the Prime Minister's group\"})\n",
      "MERGE (kishidaPledge:KishidaPledge {description: \"Mr Kishida pledged to clean up politics and hinted at legal reforms\"})\n",
      "MERGE (kishidaResignation:KishidaResignation {description: \"Mr Kishida withdrew from his faction to distance himself\"})\n",
      "MERGE (kishidaScandals:KishidaScandals {description: \"Mr Kishida's tenure has been marked by a slew of scandals\"})\n",
      "MERGE (voterResentment:VoterResentment {description: \"Voter resentment and malaise over the cost of living crisis\"})\n",
      "MERGE (potentialChallengers:PotentialChallengers {description: \"Potential challengers lack support in the LDP\"})\n",
      "MERGE (oppositionParties:OppositionParties {description: \"Opposition parties are seen as too minor, fractured or incompetent\"})\n",
      "MERGE (voterApathy:VoterApathy {description: \"Voters have grown apathetic after every LDP corruption scandal\"})\n",
      "MERGE (analystsOpinion:AnalystsOpinion {description: \"Analysts aren't hopeful that this could spell the end of LDP dominance or majorly redefine Japanese politics\"})\n",
      "MERGE (commentatorsFocus:CommentatorsFocus {description: \"Commentators have fixated on how it could play out in terms of politics in the LDP\"})\n"
     ]
    }
   ],
   "source": [
    "print(response)"
   ]
  },
  {
   "cell_type": "markdown",
   "metadata": {},
   "source": [
    "## Neo4j"
   ]
  },
  {
   "cell_type": "code",
   "execution_count": 6,
   "metadata": {},
   "outputs": [],
   "source": [
    "from neo4j import GraphDatabase"
   ]
  },
  {
   "cell_type": "code",
   "execution_count": 7,
   "metadata": {},
   "outputs": [],
   "source": [
    "URI = os.getenv('NEO4J_URI')\n",
    "AUTH = os.getenv('NEO4J_USER'), os.getenv('NEO4J_PASSWORD')"
   ]
  },
  {
   "cell_type": "code",
   "execution_count": 8,
   "metadata": {},
   "outputs": [],
   "source": [
    "def neo4j_delete_all(db_name=\"neo4j\"):\n",
    "    global URI, AUTH\n",
    "    driver = GraphDatabase.driver(URI, auth=AUTH)\n",
    "    driver.execute_query(\n",
    "        \"MATCH (n) DETACH DELETE n\",\n",
    "        database_=db_name\n",
    "    )\n",
    "    driver.close()\n",
    "    print(f\"Successfully deleted all nodes and relationships in the database ({db_name})\")\n",
    "\n",
    "def neo4j_add_query(query, db_name=\"neo4j\"):\n",
    "    global URI, AUTH\n",
    "    driver = GraphDatabase.driver(URI, auth=AUTH)\n",
    "    driver.execute_query(\n",
    "        query,\n",
    "        database_=db_name\n",
    "    )\n",
    "    driver.close()\n",
    "    print(f\"Successfully added the query to the database ({db_name})\")\n",
    "\n",
    "def neo4j_num_element(db_name=\"neo4j\"):\n",
    "    global URI, AUTH\n",
    "    driver = GraphDatabase.driver(URI, auth=AUTH)\n",
    "    count = driver.execute_query(\n",
    "        \"MATCH (n) RETURN COUNT(n)\",\n",
    "        database_=db_name\n",
    "    )\n",
    "    print(count.records[0][0])\n",
    "    driver.close()\n",
    "    print(f\"Successfully added the query to the database ({db_name})\")"
   ]
  },
  {
   "cell_type": "code",
   "execution_count": 9,
   "metadata": {},
   "outputs": [
    {
     "name": "stdout",
     "output_type": "stream",
     "text": [
      "36\n",
      "Successfully added the query to the database (neo4j)\n"
     ]
    }
   ],
   "source": [
    "neo4j_num_element()"
   ]
  },
  {
   "cell_type": "code",
   "execution_count": 10,
   "metadata": {},
   "outputs": [
    {
     "name": "stdout",
     "output_type": "stream",
     "text": [
      "Successfully added the query to the database (neo4j)\n"
     ]
    }
   ],
   "source": [
    "neo4j_add_query(response)"
   ]
  },
  {
   "cell_type": "code",
   "execution_count": null,
   "metadata": {},
   "outputs": [],
   "source": []
  }
 ],
 "metadata": {
  "kernelspec": {
   "display_name": "ketoprak",
   "language": "python",
   "name": "python3"
  },
  "language_info": {
   "codemirror_mode": {
    "name": "ipython",
    "version": 3
   },
   "file_extension": ".py",
   "mimetype": "text/x-python",
   "name": "python",
   "nbconvert_exporter": "python",
   "pygments_lexer": "ipython3",
   "version": "3.11.9"
  }
 },
 "nbformat": 4,
 "nbformat_minor": 2
}
